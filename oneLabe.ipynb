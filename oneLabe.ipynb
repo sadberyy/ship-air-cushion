{
  "nbformat": 4,
  "nbformat_minor": 0,
  "metadata": {
    "colab": {
      "provenance": [],
      "authorship_tag": "ABX9TyP84aLOhwQsRN/L1B0KiPta",
      "include_colab_link": true
    },
    "kernelspec": {
      "name": "python3",
      "display_name": "Python 3"
    },
    "language_info": {
      "name": "python"
    }
  },
  "cells": [
    {
      "cell_type": "markdown",
      "metadata": {
        "id": "view-in-github",
        "colab_type": "text"
      },
      "source": [
        "<a href=\"https://colab.research.google.com/github/sadberyy/ship-air-cushion/blob/main/oneLabe.ipynb\" target=\"_parent\"><img src=\"https://colab.research.google.com/assets/colab-badge.svg\" alt=\"Open In Colab\"/></a>"
      ]
    },
    {
      "cell_type": "code",
      "execution_count": null,
      "metadata": {
        "id": "S8drbWNCKrtl"
      },
      "outputs": [],
      "source": [
        "!pip install celluloid"
      ]
    },
    {
      "cell_type": "code",
      "source": [
        "from matplotlib.patches import Arc\n",
        "import matplotlib.pyplot as plt\n",
        "import numpy as np\n",
        "from celluloid import Camera \n",
        "\n",
        "def X(x):\n",
        "  f = np.zeros(5, dtype=np.float64)\n",
        "  f[0] = x[0] + x[2]*np.cos(alfa - x[3]) - A_x\n",
        "  f[1] = x[1] + x[2]*np.cos(alfa + x[4]) - B_x\n",
        "  f[2] = x[2] + x[2]*np.sin(alfa - x[3]) - A_y\n",
        "  f[3] = (x[3] + x[4])*x[2] + (x[1] - x[0]) - C\n",
        "  f[4] = x[2] + x[2]*np.sin(alfa + x[4]) - B_y\n",
        "  return f\n",
        "\n",
        "def draw(x):\n",
        "  r1 = ((x[0] - A_x)**2 + (x[2] - A_y)**2)**0.5\n",
        "  r2 = ((x[1] - B_x)**2 + (x[2] - B_y)**2)**0.5\n",
        "  plt.plot((A_x, B_x), (A_y, B_y), color = 'black')\n",
        "  plt.plot((x[0], x[1]), (x[2] - r1, x[2] - r2), color = 'black')\n",
        "  arc1 = Arc((x[0], x[2]), 2*r1, 2*r1, 0, (alfa - x[3])*180/np.pi, alfa*180/np.pi, color = 'black')\n",
        "  ax.add_patch(arc1)\n",
        "  arc2 = Arc((x[1], x[2]), 2*r2, 2*r2, 270, 0, x[4]*180/np.pi, color = 'black')\n",
        "  ax.add_patch(arc2)\n",
        "\n",
        "if __name__ == \"__main__\":\n",
        "  A_x = -0.353\n",
        "  B_x = 0.353\n",
        "  A_y = 0.3\n",
        "  B_y = 0.3\n",
        "  C = 3*np.pi / 8\n",
        "  alfa = 3*np.pi / 2\n",
        "  eps = 0.000000000001\n",
        "\n",
        "  p = 2000\n",
        "  m = 100\n",
        "  v = 0\n",
        "  t = 0.01\n",
        "  g = 9.8\n",
        "\n",
        "  fig = plt.figure()\n",
        "  camera = Camera(fig)\n",
        "  ax = plt.gca()\n",
        "  ax.set_ylim(-0.2, 0.6)\n",
        "  ax.set_xlim(-0.75, 0.75)\n",
        "  ax.set_aspect(\"equal\")\n",
        "  ax.axis('on')\n",
        "\n",
        "  for i in range(250):\n",
        "    A_y = A_y + v*t\n",
        "    B_y = A_y\n",
        "\n",
        "    x = np.zeros(5, dtype=np.float64)\n",
        "    x1 = np.zeros(5, dtype=np.float64)\n",
        "    f0 = 1\n",
        "    while f0:\n",
        "      F = X(x)\n",
        "      x1 = x - F*0.005\n",
        "      f1 = 0\n",
        "      for j in range (0, 5):\n",
        "        if (abs(F[j]) > eps):\n",
        "          f1 = 1\n",
        "          break\n",
        "      if (f1 == 0):\n",
        "        f0 = 0\n",
        "      x = x1\n",
        "    \n",
        "    l = x[1] - x[0]\n",
        "    v = v + (1/m)*(p*l-m*g)*t\n",
        "    draw(x)\n",
        "    camera.snap()\n",
        "    \n",
        "  animation = camera.animate(interval = 200, repeat = True, repeat_delay = 0)\n",
        "  animation.save('podushka.mp4')"
      ],
      "metadata": {
        "id": "JLGzFnQEK8Lg"
      },
      "execution_count": null,
      "outputs": []
    }
  ]
}