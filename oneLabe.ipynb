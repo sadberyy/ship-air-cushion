{
  "nbformat": 4,
  "nbformat_minor": 0,
  "metadata": {
    "colab": {
      "provenance": [],
      "authorship_tag": "ABX9TyP84aLOhwQsRN/L1B0KiPta",
      "include_colab_link": true
    },
    "kernelspec": {
      "name": "python3",
      "display_name": "Python 3"
    },
    "language_info": {
      "name": "python"
    }
  },
  "cells": [
    {
      "cell_type": "markdown",
      "metadata": {
        "id": "view-in-github",
        "colab_type": "text"
      },
      "source": [
        "<a href=\"https://colab.research.google.com/github/sadberyy/ship-air-cushion/blob/main/oneLabe.ipynb\" target=\"_parent\"><img src=\"https://colab.research.google.com/assets/colab-badge.svg\" alt=\"Open In Colab\"/></a>"
      ]
    },
    {
      "cell_type": "code",
      "execution_count": null,
      "metadata": {
        "id": "S8drbWNCKrtl",
        "colab": {
          "base_uri": "https://localhost:8080/"
        },
        "outputId": "616394a4-cf23-4811-d8e7-930a424b36c3"
      },
      "outputs": [
        {
          "output_type": "stream",
          "name": "stdout",
          "text": [
            "Looking in indexes: https://pypi.org/simple, https://us-python.pkg.dev/colab-wheels/public/simple/\n",
            "Collecting celluloid\n",
            "  Downloading celluloid-0.2.0-py3-none-any.whl (5.4 kB)\n",
            "Requirement already satisfied: matplotlib in /usr/local/lib/python3.9/dist-packages (from celluloid) (3.7.1)\n",
            "Requirement already satisfied: numpy>=1.20 in /usr/local/lib/python3.9/dist-packages (from matplotlib->celluloid) (1.22.4)\n",
            "Requirement already satisfied: pyparsing>=2.3.1 in /usr/local/lib/python3.9/dist-packages (from matplotlib->celluloid) (3.0.9)\n",
            "Requirement already satisfied: python-dateutil>=2.7 in /usr/local/lib/python3.9/dist-packages (from matplotlib->celluloid) (2.8.2)\n",
            "Requirement already satisfied: importlib-resources>=3.2.0 in /usr/local/lib/python3.9/dist-packages (from matplotlib->celluloid) (5.12.0)\n",
            "Requirement already satisfied: fonttools>=4.22.0 in /usr/local/lib/python3.9/dist-packages (from matplotlib->celluloid) (4.39.3)\n",
            "Requirement already satisfied: cycler>=0.10 in /usr/local/lib/python3.9/dist-packages (from matplotlib->celluloid) (0.11.0)\n",
            "Requirement already satisfied: kiwisolver>=1.0.1 in /usr/local/lib/python3.9/dist-packages (from matplotlib->celluloid) (1.4.4)\n",
            "Requirement already satisfied: pillow>=6.2.0 in /usr/local/lib/python3.9/dist-packages (from matplotlib->celluloid) (8.4.0)\n",
            "Requirement already satisfied: packaging>=20.0 in /usr/local/lib/python3.9/dist-packages (from matplotlib->celluloid) (23.1)\n",
            "Requirement already satisfied: contourpy>=1.0.1 in /usr/local/lib/python3.9/dist-packages (from matplotlib->celluloid) (1.0.7)\n",
            "Requirement already satisfied: zipp>=3.1.0 in /usr/local/lib/python3.9/dist-packages (from importlib-resources>=3.2.0->matplotlib->celluloid) (3.15.0)\n",
            "Requirement already satisfied: six>=1.5 in /usr/local/lib/python3.9/dist-packages (from python-dateutil>=2.7->matplotlib->celluloid) (1.16.0)\n",
            "Installing collected packages: celluloid\n",
            "Successfully installed celluloid-0.2.0\n"
          ]
        }
      ],
      "source": [
        "!pip install celluloid"
      ]
    },
    {
      "cell_type": "code",
      "source": [
        "from matplotlib.patches import Arc\n",
        "import matplotlib.pyplot as plt\n",
        "import numpy as np\n",
        "from celluloid import Camera \n",
        "\n",
        "def X(x):\n",
        "  f = np.zeros(5, dtype=np.float64)\n",
        "  f[0] = x[0] + x[2]*np.cos(alfa - x[3]) - A_x\n",
        "  f[1] = x[1] + x[2]*np.cos(alfa + x[4]) - B_x\n",
        "  f[2] = x[2] + x[2]*np.sin(alfa - x[3]) - A_y\n",
        "  f[3] = (x[3] + x[4])*x[2] + (x[1] - x[0]) - C\n",
        "  f[4] = x[2] + x[2]*np.sin(alfa + x[4]) - B_y\n",
        "  return f\n",
        "\n",
        "def draw(x):\n",
        "  r1 = ((x[0] - A_x)**2 + (x[2] - A_y)**2)**0.5\n",
        "  r2 = ((x[1] - B_x)**2 + (x[2] - B_y)**2)**0.5\n",
        "  plt.plot((A_x, B_x), (A_y, B_y), color = 'black')\n",
        "  plt.plot((x[0], x[1]), (x[2] - r1, x[2] - r2), color = 'black')\n",
        "  arc1 = Arc((x[0], x[2]), 2*r1, 2*r1, 0, (alfa - x[3])*180/np.pi, alfa*180/np.pi, color = 'black')\n",
        "  ax.add_patch(arc1)\n",
        "  arc2 = Arc((x[1], x[2]), 2*r2, 2*r2, 270, 0, x[4]*180/np.pi, color = 'black')\n",
        "  ax.add_patch(arc2)\n",
        "\n",
        "if __name__ == \"__main__\":\n",
        "  A_x = -0.353\n",
        "  B_x = 0.353\n",
        "  A_y = 0.3\n",
        "  B_y = 0.3\n",
        "  C = 3*np.pi / 8\n",
        "  alfa = 3*np.pi / 2\n",
        "  eps = 0.000000000001\n",
        "\n",
        "  p = 2000\n",
        "  m = 100\n",
        "  v = 0\n",
        "  t = 0.01\n",
        "  g = 9.8\n",
        "\n",
        "  fig = plt.figure()\n",
        "  camera = Camera(fig)\n",
        "  ax = plt.gca()\n",
        "  ax.set_ylim(-0.2, 0.6)\n",
        "  ax.set_xlim(-0.75, 0.75)\n",
        "  ax.set_aspect(\"equal\")\n",
        "  ax.axis('on')\n",
        "\n",
        "  for i in range(250):\n",
        "    A_y = A_y + v*t\n",
        "    B_y = A_y\n",
        "\n",
        "    x = np.zeros(5, dtype=np.float64)\n",
        "    x1 = np.zeros(5, dtype=np.float64)\n",
        "    f0 = 1\n",
        "    while f0:\n",
        "      F = X(x)\n",
        "      x1 = x - F*0.005\n",
        "      f1 = 0\n",
        "      for j in range (0, 5):\n",
        "        if (abs(F[j]) > eps):\n",
        "          f1 = 1\n",
        "          break\n",
        "      if (f1 == 0):\n",
        "        f0 = 0\n",
        "      x = x1\n",
        "    \n",
        "    l = x[1] - x[0]\n",
        "    v = v + (1/m)*(p*l-m*g)*t\n",
        "    draw(x)\n",
        "    camera.snap()\n",
        "    \n",
        "  animation = camera.animate(interval = 200, repeat = True, repeat_delay = 0)\n",
        "  animation.save('podushka.mp4')"
      ],
      "metadata": {
        "colab": {
          "base_uri": "https://localhost:8080/",
          "height": 419
        },
        "id": "JLGzFnQEK8Lg",
        "outputId": "72bbc805-2d38-4438-e046-cbda9c2044b2"
      },
      "execution_count": null,
      "outputs": [
        {
          "output_type": "stream",
          "name": "stderr",
          "text": [
            "<ipython-input-3-578b7085e158>:20: MatplotlibDeprecationWarning: Passing the angle parameter of __init__() positionally is deprecated since Matplotlib 3.6; the parameter will become keyword-only two minor releases later.\n",
            "  arc1 = Arc((x[0], x[2]), 2*r1, 2*r1, 0, (alfa - x[3])*180/np.pi, alfa*180/np.pi, color = 'black')\n",
            "<ipython-input-3-578b7085e158>:22: MatplotlibDeprecationWarning: Passing the angle parameter of __init__() positionally is deprecated since Matplotlib 3.6; the parameter will become keyword-only two minor releases later.\n",
            "  arc2 = Arc((x[1], x[2]), 2*r2, 2*r2, 270, 0, x[4]*180/np.pi, color = 'black')\n"
          ]
        },
        {
          "output_type": "display_data",
          "data": {
            "text/plain": [
              "<Figure size 640x480 with 1 Axes>"
            ],
            "image/png": "[encoded data removed]"
          },
          "metadata": {}
        }
      ]
    }
  ]
}